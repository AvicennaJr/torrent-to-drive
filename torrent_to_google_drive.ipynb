{
 "cells": [
  {
   "cell_type": "markdown",
   "metadata": {
    "id": "aQuWDmfm9YOi"
   },
   "source": [
    "# Torrent To Google Drive Downloader "
   ]
  },
  {
   "cell_type": "markdown",
   "metadata": {},
   "source": [
    "Save torrent files to your Google drive. This is especially useful in areas like universities where torrents are prohibited.\n",
    "\n",
    "***Authored by [AvicennaJr](https://github.com/AvicennaJr)***"
   ]
  },
  {
   "cell_type": "markdown",
   "metadata": {
    "id": "NaFa7M-e9YOr"
   },
   "source": [
    "### Install libtorrent and Initialize Session"
   ]
  },
  {
   "cell_type": "code",
   "execution_count": null,
   "metadata": {
    "colab": {
     "base_uri": "https://localhost:8080/"
    },
    "id": "m6hF0emftx4h",
    "outputId": "a3f35b2d-f429-47f1-beb3-98d6a64af3b8",
    "scrolled": false
   },
   "outputs": [],
   "source": [
    "!python -m pip install --upgrade pip setuptools wheel\n",
    "!python -m pip install lbry-libtorrent\n",
    "!apt install python3-libtorrent\n",
    "\n",
    "import libtorrent as lt\n",
    "\n",
    "ses = lt.session()\n",
    "ses.listen_on(6881, 6891)\n",
    "downloads = []"
   ]
  },
  {
   "cell_type": "markdown",
   "metadata": {
    "id": "Uf90U73y9YOj"
   },
   "source": [
    "### Mount Google Drive\n",
    "To stream files we need to mount Google Drive."
   ]
  },
  {
   "cell_type": "code",
   "execution_count": null,
   "metadata": {
    "colab": {
     "base_uri": "https://localhost:8080/"
    },
    "id": "oWM9l2fvtuvO",
    "outputId": "9092606f-8099-4d10-d2ce-ffe7e3b93920"
   },
   "outputs": [],
   "source": [
    "from google.colab import drive\n",
    "\n",
    "drive.mount(\"/content/drive\")"
   ]
  },
  {
   "cell_type": "markdown",
   "metadata": {
    "id": "R_1XuuIf9YOn"
   },
   "source": [
    "### Add From Torrent File\n",
    "You can run this cell to add as many torrent files as you want"
   ]
  },
  {
   "cell_type": "code",
   "execution_count": null,
   "metadata": {
    "colab": {
     "base_uri": "https://localhost:8080/",
     "height": 78
    },
    "id": "0et2A6N3udA0",
    "outputId": "60e9b3a0-3490-47f4-be5e-c6b169a4a899"
   },
   "outputs": [],
   "source": [
    "from google.colab import files\n",
    "\n",
    "source = files.upload()\n",
    "params = {\n",
    "    \"save_path\": \"/content/drive/My Drive/Torrent\",\n",
    "    \"ti\": lt.torrent_info(list(source.keys())[0]),\n",
    "}\n",
    "downloads.append(ses.add_torrent(params))"
   ]
  },
  {
   "cell_type": "markdown",
   "metadata": {
    "id": "WD-6M6eZyzmj"
   },
   "source": [
    "### Add From Magnet Link\n",
    "You can run this cell to add ass many torrent links as you want"
   ]
  },
  {
   "cell_type": "code",
   "execution_count": null,
   "metadata": {
    "colab": {
     "base_uri": "https://localhost:8080/"
    },
    "id": "Cwi1GMlxy3te",
    "outputId": "ff50c1db-e61f-4803-97d4-a6b3a37623b6"
   },
   "outputs": [],
   "source": [
    "params = {\"save_path\": \"/content/drive/My Drive/Torrent\"}\n",
    "\n",
    "while True:\n",
    "    magnet_link = input(\"Enter Magnet Link Or Type Exit: \")\n",
    "    if magnet_link.lower() == \"exit\":\n",
    "        break\n",
    "    downloads.append(\n",
    "        lt.add_magnet_uri(ses, magnet_link, params)\n",
    "    )\n"
   ]
  },
  {
   "cell_type": "markdown",
   "metadata": {
    "id": "m-a1CUP39YOu"
   },
   "source": [
    "### Start Download\n",
    "This will save the torrents to your drive. It will NOT use any mobile data from you."
   ]
  },
  {
   "cell_type": "code",
   "execution_count": null,
   "metadata": {
    "colab": {
     "base_uri": "https://localhost:8080/",
     "height": 52,
     "referenced_widgets": [
      "fd4e1fd4b24549558c0ea493142a7255",
      "6e70fe1fa95c41a0aba633835c6a89cf",
      "60c21ce28ca34bab88c49b0c5cd2af05",
      "99b14be5d14444a5841425f6b6d03866",
      "1a57ef77f5f94a978929f1d005f339cf"
     ]
    },
    "id": "DBNoYYoSuDBT",
    "outputId": "7cf50d79-fa1a-4c71-c1f6-c9dddac9f615"
   },
   "outputs": [],
   "source": [
    "import time\n",
    "from IPython.display import display\n",
    "import ipywidgets as widgets\n",
    "\n",
    "state_str = [\n",
    "    \"queued\",\n",
    "    \"checking\",\n",
    "    \"downloading metadata\",\n",
    "    \"downloading\",\n",
    "    \"finished\",\n",
    "    \"seeding\",\n",
    "    \"allocating\",\n",
    "    \"checking fastresume\",\n",
    "]\n",
    "\n",
    "layout = widgets.Layout(width=\"auto\")\n",
    "style = {\"description_width\": \"initial\"}\n",
    "download_bars = [\n",
    "    widgets.FloatSlider(\n",
    "        step=0.01, disabled=True, layout=layout, style=style\n",
    "    )\n",
    "    for _ in downloads\n",
    "]\n",
    "display(*download_bars)\n",
    "\n",
    "while downloads:\n",
    "    next_shift = 0\n",
    "    for index, download in enumerate(downloads[:]):\n",
    "        bar = download_bars[index + next_shift]\n",
    "        if not download.is_seed():\n",
    "            s = download.status()\n",
    "\n",
    "            bar.description = \" \".join(\n",
    "                [\n",
    "                    download.name(),\n",
    "                    str(s.download_rate / 1000),\n",
    "                    \"kB/s\",\n",
    "                    state_str[s.state],\n",
    "                ]\n",
    "            )\n",
    "            bar.value = s.progress * 100\n",
    "        else:\n",
    "            next_shift -= 1\n",
    "            ses.remove_torrent(download)\n",
    "            downloads.remove(download)\n",
    "            bar.close()\n",
    "            download_bars.remove(bar)\n",
    "            print(download.name(), \"complete\")\n",
    "    time.sleep(1)\n"
   ]
  }
 ],
 "metadata": {
  "author": {
   "github": "https://github.com/AvicennaJr",
   "name": "AvicennaJr"
  },
  "kernelspec": {
   "display_name": "Python 3 (ipykernel)",
   "language": "python",
   "name": "python3"
  },
  "language_info": {
   "codemirror_mode": {
    "name": "ipython",
    "version": 3
   },
   "file_extension": ".py",
   "mimetype": "text/x-python",
   "name": "python",
   "nbconvert_exporter": "python",
   "pygments_lexer": "ipython3",
   "version": "3.9.2"
  }
 },
 "nbformat": 4,
 "nbformat_minor": 1
}
